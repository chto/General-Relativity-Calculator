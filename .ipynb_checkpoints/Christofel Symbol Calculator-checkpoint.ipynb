{
 "cells": [
  {
   "cell_type": "code",
   "execution_count": 1,
   "metadata": {
    "collapsed": true
   },
   "outputs": [],
   "source": [
    "from sympy import *"
   ]
  },
  {
   "cell_type": "code",
   "execution_count": 48,
   "metadata": {
    "collapsed": false
   },
   "outputs": [],
   "source": [
    "x,y,z,w,h=symbols('x y z w h')\n",
    "r,theta,phi=symbols('r theta phi')"
   ]
  },
  {
   "cell_type": "code",
   "execution_count": 57,
   "metadata": {
    "collapsed": false
   },
   "outputs": [],
   "source": [
    "metric = diag(1, r**2, r**2*sin(theta)**2)"
   ]
  },
  {
   "cell_type": "code",
   "execution_count": 58,
   "metadata": {
    "collapsed": false
   },
   "outputs": [],
   "source": [
    "def christofel(index, metric, cord):\n",
    "    index_new=index\n",
    "    metric_inv=metric**-1\n",
    "    f=sum(metric_inv[index_new[0],k]*metric[k,index_new[2]].diff(cord[index_new[1]]) for k in range(len(cord)))\n",
    "    s=sum(metric_inv[index_new[0],k]*metric[k,index_new[1]].diff(cord[index_new[2]]) for k in range(len(cord)))\n",
    "    t=sum(metric_inv[index_new[0],k]*metric[index_new[1],index_new[2]].diff(cord[k]) for k in range(len(cord)))\n",
    "    return Rational(1,2)*(f+s-t).together().simplify()"
   ]
  },
  {
   "cell_type": "code",
   "execution_count": 59,
   "metadata": {
    "collapsed": false
   },
   "outputs": [],
   "source": [
    "cord=[r,phi,h]\n",
    "metric = diag(1, r**2, 1)"
   ]
  },
  {
   "cell_type": "code",
   "execution_count": 63,
   "metadata": {
    "collapsed": false
   },
   "outputs": [
    {
     "name": "stdout",
     "output_type": "stream",
     "text": [
      "[0, 0, 0] 0\n",
      "[0, 0, 1] 0\n",
      "[0, 0, 2] 0\n",
      "[0, 1, 0] 0\n",
      "[0, 1, 1] -r\n",
      "[0, 1, 2] 0\n",
      "[0, 2, 0] 0\n",
      "[0, 2, 1] 0\n",
      "[0, 2, 2] 0\n",
      "[1, 0, 0] 0\n",
      "[1, 0, 1] 1/r\n",
      "[1, 0, 2] 0\n",
      "[1, 1, 0] 1/r\n",
      "[1, 1, 1] 0\n",
      "[1, 1, 2] 0\n",
      "[1, 2, 0] 0\n",
      "[1, 2, 1] 0\n",
      "[1, 2, 2] 0\n",
      "[2, 0, 0] 0\n",
      "[2, 0, 1] 0\n",
      "[2, 0, 2] 0\n",
      "[2, 1, 0] 0\n",
      "[2, 1, 1] 0\n",
      "[2, 1, 2] 0\n",
      "[2, 2, 0] 0\n",
      "[2, 2, 1] 0\n",
      "[2, 2, 2] 0\n"
     ]
    }
   ],
   "source": [
    "for i in xrange(3):\n",
    "    for j in xrange(3):\n",
    "        for k in xrange(3):\n",
    "            index=[i,j,k]\n",
    "            print index, christofel(index, metric, cord)"
   ]
  },
  {
   "cell_type": "code",
   "execution_count": null,
   "metadata": {
    "collapsed": true
   },
   "outputs": [],
   "source": []
  }
 ],
 "metadata": {
  "kernelspec": {
   "display_name": "Python 2",
   "language": "python",
   "name": "python2"
  },
  "language_info": {
   "codemirror_mode": {
    "name": "ipython",
    "version": 2
   },
   "file_extension": ".py",
   "mimetype": "text/x-python",
   "name": "python",
   "nbconvert_exporter": "python",
   "pygments_lexer": "ipython2",
   "version": "2.7.10"
  }
 },
 "nbformat": 4,
 "nbformat_minor": 1
}
