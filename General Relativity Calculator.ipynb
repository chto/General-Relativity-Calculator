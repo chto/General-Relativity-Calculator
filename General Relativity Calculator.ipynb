{
 "cells": [
  {
   "cell_type": "markdown",
   "metadata": {},
   "source": [
    "This notebooks demostrate how to calculate Christofel Symbol, Riemann Tensor, Ricci Tensor, Ricci Scalar with sympy package"
   ]
  },
  {
   "cell_type": "code",
   "execution_count": 2,
   "metadata": {
    "collapsed": true
   },
   "outputs": [],
   "source": [
    "from sympy import *"
   ]
  },
  {
   "cell_type": "markdown",
   "metadata": {},
   "source": [
    "Define variable"
   ]
  },
  {
   "cell_type": "code",
   "execution_count": 3,
   "metadata": {
    "collapsed": false
   },
   "outputs": [],
   "source": [
    "t,x,y,z,w,h,a, b, u, v=symbols('t x y z w h a b u v')\n",
    "r,theta,phi, psi=symbols('r theta phi psi')"
   ]
  },
  {
   "cell_type": "markdown",
   "metadata": {},
   "source": [
    "Define coordinate and metric"
   ]
  },
  {
   "cell_type": "code",
   "execution_count": 3,
   "metadata": {
    "collapsed": false
   },
   "outputs": [],
   "source": [
    "cord = [t, x, y, z]\n",
    "metric = diag(-1,1,x**2,(x*sin(y))**2)"
   ]
  },
  {
   "cell_type": "code",
   "execution_count": 4,
   "metadata": {
    "collapsed": false
   },
   "outputs": [
    {
     "data": {
      "text/plain": [
       "Matrix([\n",
       "[-1, 0,    0,              0],\n",
       "[ 0, 1,    0,              0],\n",
       "[ 0, 0, x**2,              0],\n",
       "[ 0, 0,    0, x**2*sin(y)**2]])"
      ]
     },
     "execution_count": 4,
     "metadata": {},
     "output_type": "execute_result"
    }
   ],
   "source": [
    "metric"
   ]
  },
  {
   "cell_type": "code",
   "execution_count": 5,
   "metadata": {
    "collapsed": false
   },
   "outputs": [],
   "source": [
    "def christofel(index, metric, cord):\n",
    "    index_new=index\n",
    "    metric_inv=metric**-1\n",
    "    f=sum(metric_inv[index_new[0],k]*metric[k,index_new[2]].diff(cord[index_new[1]]) for k in range(len(cord)))\n",
    "    s=sum(metric_inv[index_new[0],k]*metric[k,index_new[1]].diff(cord[index_new[2]]) for k in range(len(cord)))\n",
    "    t=sum(metric_inv[index_new[0],k]*metric[index_new[1],index_new[2]].diff(cord[k]) for k in range(len(cord)))\n",
    "    return trigsimp(expand_trig(Rational(1,2)*(f+s-t).together().simplify()))\n",
    "def Riemann(index, metric, cord):\n",
    "    id=index\n",
    "    f = christofel([id[0],id[3], id[1]],metric, cord).diff(cord[id[2]])\n",
    "    s = christofel([id[0],id[2], id[1]],metric, cord).diff(cord[id[3]])\n",
    "    t = sum(christofel([id[0],id[2], k],metric, cord)*christofel([k,id[3], id[1]],metric, cord) for k in range(len(cord)))\n",
    "    ft = sum(christofel([id[0],id[3], k],metric, cord)*christofel([k,id[2], id[1]],metric, cord) for k in range(len(cord)))\n",
    "    return trigsimp(expand_trig((f-s+t-ft).together().simplify()))\n",
    "def Riemann_lower(index, metric, cord):\n",
    "    answer=sum(metric[index[0],k]*Riemann([k,index[1],index[2],index[3]], metric, cord) for k in range(len(cord)))\n",
    "    return trigsimp(expand_trig((answer).together().simplify()))\n",
    "def Ricci_Tensor(index, metric,cord):\n",
    "    return sum(Riemann([k,index[0],k,index[1]], metric, cord) for k in range(len(cord)))\n",
    "def Ricci_Scalar(metric,cord):\n",
    "    metric_inv=metric**-1\n",
    "    return sum(metric_inv[k,j]*Ricci_Tensor([k,j],metric,cord) for k in range(len(cord)) for j in range(len(cord)))\n",
    "def Einstein_Tensor(index, metric,cord):\n",
    "    return Ricci_Tensor(index,metric,cord)-Rational(1,2)*Ricci_Scalar(metric,cord)*metric[index[0],index[1]]"
   ]
  },
  {
   "cell_type": "markdown",
   "metadata": {},
   "source": [
    "Calculate Christofel Symbol"
   ]
  },
  {
   "cell_type": "code",
   "execution_count": 6,
   "metadata": {
    "collapsed": false,
    "scrolled": false
   },
   "outputs": [
    {
     "name": "stdout",
     "output_type": "stream",
     "text": [
      "[0, 0, 0] 0\n",
      "[0, 0, 1] 0\n",
      "[0, 0, 2] 0\n",
      "[0, 0, 3] 0\n",
      "[0, 1, 0] 0\n",
      "[0, 1, 1] 0\n",
      "[0, 1, 2] 0\n",
      "[0, 1, 3] 0\n",
      "[0, 2, 0] 0\n",
      "[0, 2, 1] 0\n",
      "[0, 2, 2] 0\n",
      "[0, 2, 3] 0\n",
      "[0, 3, 0] 0\n",
      "[0, 3, 1] 0\n",
      "[0, 3, 2] 0\n",
      "[0, 3, 3] 0\n",
      "[1, 0, 0] 0\n",
      "[1, 0, 1] 0\n",
      "[1, 0, 2] 0\n",
      "[1, 0, 3] 0\n",
      "[1, 1, 0] 0\n",
      "[1, 1, 1] 0\n",
      "[1, 1, 2] 0\n",
      "[1, 1, 3] 0\n",
      "[1, 2, 0] 0\n",
      "[1, 2, 1] 0\n",
      "[1, 2, 2] -x\n",
      "[1, 2, 3] 0\n",
      "[1, 3, 0] 0\n",
      "[1, 3, 1] 0\n",
      "[1, 3, 2] 0\n",
      "[1, 3, 3] -x*sin(y)**2\n",
      "[2, 0, 0] 0\n",
      "[2, 0, 1] 0\n",
      "[2, 0, 2] 0\n",
      "[2, 0, 3] 0\n",
      "[2, 1, 0] 0\n",
      "[2, 1, 1] 0\n",
      "[2, 1, 2] 1/x\n",
      "[2, 1, 3] 0\n",
      "[2, 2, 0] 0\n",
      "[2, 2, 1] 1/x\n",
      "[2, 2, 2] 0\n",
      "[2, 2, 3] 0\n",
      "[2, 3, 0] 0\n",
      "[2, 3, 1] 0\n",
      "[2, 3, 2] 0\n",
      "[2, 3, 3] -sin(2*y)/2\n",
      "[3, 0, 0] 0\n",
      "[3, 0, 1] 0\n",
      "[3, 0, 2] 0\n",
      "[3, 0, 3] 0\n",
      "[3, 1, 0] 0\n",
      "[3, 1, 1] 0\n",
      "[3, 1, 2] 0\n",
      "[3, 1, 3] 1/x\n",
      "[3, 2, 0] 0\n",
      "[3, 2, 1] 0\n",
      "[3, 2, 2] 0\n",
      "[3, 2, 3] 1/tan(y)\n",
      "[3, 3, 0] 0\n",
      "[3, 3, 1] 1/x\n",
      "[3, 3, 2] 1/tan(y)\n",
      "[3, 3, 3] 0\n"
     ]
    }
   ],
   "source": [
    "for i in xrange(len(cord)):\n",
    "    for j in xrange(len(cord)):\n",
    "        for k in xrange(len(cord)):\n",
    "            index= [i,j,k]\n",
    "            print index, christofel(index,metric, cord)"
   ]
  },
  {
   "cell_type": "markdown",
   "metadata": {},
   "source": [
    "Calculate Riemann Tensor"
   ]
  },
  {
   "cell_type": "code",
   "execution_count": 7,
   "metadata": {
    "collapsed": false,
    "scrolled": false
   },
   "outputs": [
    {
     "name": "stdout",
     "output_type": "stream",
     "text": [
      "[0, 0, 0, 0] 0\n",
      "[0, 0, 0, 1] 0\n",
      "[0, 0, 0, 2] 0\n",
      "[0, 0, 0, 3] 0\n",
      "[0, 0, 1, 0] 0\n",
      "[0, 0, 1, 1] 0\n",
      "[0, 0, 1, 2] 0\n",
      "[0, 0, 1, 3] 0\n",
      "[0, 0, 2, 0] 0\n",
      "[0, 0, 2, 1] 0\n",
      "[0, 0, 2, 2] 0\n",
      "[0, 0, 2, 3] 0\n",
      "[0, 0, 3, 0] 0\n",
      "[0, 0, 3, 1] 0\n",
      "[0, 0, 3, 2] 0\n",
      "[0, 0, 3, 3] 0\n",
      "[0, 1, 0, 0] 0\n",
      "[0, 1, 0, 1] 0\n",
      "[0, 1, 0, 2] 0\n",
      "[0, 1, 0, 3] 0\n",
      "[0, 1, 1, 0] 0\n",
      "[0, 1, 1, 1] 0\n",
      "[0, 1, 1, 2] 0\n",
      "[0, 1, 1, 3] 0\n",
      "[0, 1, 2, 0] 0\n",
      "[0, 1, 2, 1] 0\n",
      "[0, 1, 2, 2] 0\n",
      "[0, 1, 2, 3] 0\n",
      "[0, 1, 3, 0] 0\n",
      "[0, 1, 3, 1] 0\n",
      "[0, 1, 3, 2] 0\n",
      "[0, 1, 3, 3] 0\n",
      "[0, 2, 0, 0] 0\n",
      "[0, 2, 0, 1] 0\n",
      "[0, 2, 0, 2] 0\n",
      "[0, 2, 0, 3] 0\n",
      "[0, 2, 1, 0] 0\n",
      "[0, 2, 1, 1] 0\n",
      "[0, 2, 1, 2] 0\n",
      "[0, 2, 1, 3] 0\n",
      "[0, 2, 2, 0] 0\n",
      "[0, 2, 2, 1] 0\n",
      "[0, 2, 2, 2] 0\n",
      "[0, 2, 2, 3] 0\n",
      "[0, 2, 3, 0] 0\n",
      "[0, 2, 3, 1] 0\n",
      "[0, 2, 3, 2] 0\n",
      "[0, 2, 3, 3] 0\n",
      "[0, 3, 0, 0] 0\n",
      "[0, 3, 0, 1] 0\n",
      "[0, 3, 0, 2] 0\n",
      "[0, 3, 0, 3] 0\n",
      "[0, 3, 1, 0] 0\n",
      "[0, 3, 1, 1] 0\n",
      "[0, 3, 1, 2] 0\n",
      "[0, 3, 1, 3] 0\n",
      "[0, 3, 2, 0] 0\n",
      "[0, 3, 2, 1] 0\n",
      "[0, 3, 2, 2] 0\n",
      "[0, 3, 2, 3] 0\n",
      "[0, 3, 3, 0] 0\n",
      "[0, 3, 3, 1] 0\n",
      "[0, 3, 3, 2] 0\n",
      "[0, 3, 3, 3] 0\n",
      "[1, 0, 0, 0] 0\n",
      "[1, 0, 0, 1] 0\n",
      "[1, 0, 0, 2] 0\n",
      "[1, 0, 0, 3] 0\n",
      "[1, 0, 1, 0] 0\n",
      "[1, 0, 1, 1] 0\n",
      "[1, 0, 1, 2] 0\n",
      "[1, 0, 1, 3] 0\n",
      "[1, 0, 2, 0] 0\n",
      "[1, 0, 2, 1] 0\n",
      "[1, 0, 2, 2] 0\n",
      "[1, 0, 2, 3] 0\n",
      "[1, 0, 3, 0] 0\n",
      "[1, 0, 3, 1] 0\n",
      "[1, 0, 3, 2] 0\n",
      "[1, 0, 3, 3] 0\n",
      "[1, 1, 0, 0] 0\n",
      "[1, 1, 0, 1] 0\n",
      "[1, 1, 0, 2] 0\n",
      "[1, 1, 0, 3] 0\n",
      "[1, 1, 1, 0] 0\n",
      "[1, 1, 1, 1] 0\n",
      "[1, 1, 1, 2] 0\n",
      "[1, 1, 1, 3] 0\n",
      "[1, 1, 2, 0] 0\n",
      "[1, 1, 2, 1] 0\n",
      "[1, 1, 2, 2] 0\n",
      "[1, 1, 2, 3] 0\n",
      "[1, 1, 3, 0] 0\n",
      "[1, 1, 3, 1] 0\n",
      "[1, 1, 3, 2] 0\n",
      "[1, 1, 3, 3] 0\n",
      "[1, 2, 0, 0] 0\n",
      "[1, 2, 0, 1] 0\n",
      "[1, 2, 0, 2] 0\n",
      "[1, 2, 0, 3] 0\n",
      "[1, 2, 1, 0] 0\n",
      "[1, 2, 1, 1] 0\n",
      "[1, 2, 1, 2] 0\n",
      "[1, 2, 1, 3] 0\n",
      "[1, 2, 2, 0] 0\n",
      "[1, 2, 2, 1] 0\n",
      "[1, 2, 2, 2] 0\n",
      "[1, 2, 2, 3] 0\n",
      "[1, 2, 3, 0] 0\n",
      "[1, 2, 3, 1] 0\n",
      "[1, 2, 3, 2] 0\n",
      "[1, 2, 3, 3] 0\n",
      "[1, 3, 0, 0] 0\n",
      "[1, 3, 0, 1] 0\n",
      "[1, 3, 0, 2] 0\n",
      "[1, 3, 0, 3] 0\n",
      "[1, 3, 1, 0] 0\n",
      "[1, 3, 1, 1] 0\n",
      "[1, 3, 1, 2] 0\n",
      "[1, 3, 1, 3] 0\n",
      "[1, 3, 2, 0] 0\n",
      "[1, 3, 2, 1] 0\n",
      "[1, 3, 2, 2] 0\n",
      "[1, 3, 2, 3] 0\n",
      "[1, 3, 3, 0] 0\n",
      "[1, 3, 3, 1] 0\n",
      "[1, 3, 3, 2] 0\n",
      "[1, 3, 3, 3] 0\n",
      "[2, 0, 0, 0] 0\n",
      "[2, 0, 0, 1] 0\n",
      "[2, 0, 0, 2] 0\n",
      "[2, 0, 0, 3] 0\n",
      "[2, 0, 1, 0] 0\n",
      "[2, 0, 1, 1] 0\n",
      "[2, 0, 1, 2] 0\n",
      "[2, 0, 1, 3] 0\n",
      "[2, 0, 2, 0] 0\n",
      "[2, 0, 2, 1] 0\n",
      "[2, 0, 2, 2] 0\n",
      "[2, 0, 2, 3] 0\n",
      "[2, 0, 3, 0] 0\n",
      "[2, 0, 3, 1] 0\n",
      "[2, 0, 3, 2] 0\n",
      "[2, 0, 3, 3] 0\n",
      "[2, 1, 0, 0] 0\n",
      "[2, 1, 0, 1] 0\n",
      "[2, 1, 0, 2] 0\n",
      "[2, 1, 0, 3] 0\n",
      "[2, 1, 1, 0] 0\n",
      "[2, 1, 1, 1] 0\n",
      "[2, 1, 1, 2] 0\n",
      "[2, 1, 1, 3] 0\n",
      "[2, 1, 2, 0] 0\n",
      "[2, 1, 2, 1] 0\n",
      "[2, 1, 2, 2] 0\n",
      "[2, 1, 2, 3] 0\n",
      "[2, 1, 3, 0] 0\n",
      "[2, 1, 3, 1] 0\n",
      "[2, 1, 3, 2] 0\n",
      "[2, 1, 3, 3] 0\n",
      "[2, 2, 0, 0] 0\n",
      "[2, 2, 0, 1] 0\n",
      "[2, 2, 0, 2] 0\n",
      "[2, 2, 0, 3] 0\n",
      "[2, 2, 1, 0] 0\n",
      "[2, 2, 1, 1] 0\n",
      "[2, 2, 1, 2] 0\n",
      "[2, 2, 1, 3] 0\n",
      "[2, 2, 2, 0] 0\n",
      "[2, 2, 2, 1] 0\n",
      "[2, 2, 2, 2] 0\n",
      "[2, 2, 2, 3] 0\n",
      "[2, 2, 3, 0] 0\n",
      "[2, 2, 3, 1] 0\n",
      "[2, 2, 3, 2] 0\n",
      "[2, 2, 3, 3] 0\n",
      "[2, 3, 0, 0] 0\n",
      "[2, 3, 0, 1] 0\n",
      "[2, 3, 0, 2] 0\n",
      "[2, 3, 0, 3] 0\n",
      "[2, 3, 1, 0] 0\n",
      "[2, 3, 1, 1] 0\n",
      "[2, 3, 1, 2] 0\n",
      "[2, 3, 1, 3] 0\n",
      "[2, 3, 2, 0] 0\n",
      "[2, 3, 2, 1] 0\n",
      "[2, 3, 2, 2] 0\n",
      "[2, 3, 2, 3] 0\n",
      "[2, 3, 3, 0] 0\n",
      "[2, 3, 3, 1] 0\n",
      "[2, 3, 3, 2] 0\n",
      "[2, 3, 3, 3] 0\n",
      "[3, 0, 0, 0] 0\n",
      "[3, 0, 0, 1] 0\n",
      "[3, 0, 0, 2] 0\n",
      "[3, 0, 0, 3] 0\n",
      "[3, 0, 1, 0] 0\n",
      "[3, 0, 1, 1] 0\n",
      "[3, 0, 1, 2] 0\n",
      "[3, 0, 1, 3] 0\n",
      "[3, 0, 2, 0] 0\n",
      "[3, 0, 2, 1] 0\n",
      "[3, 0, 2, 2] 0\n",
      "[3, 0, 2, 3] 0\n",
      "[3, 0, 3, 0] 0\n",
      "[3, 0, 3, 1] 0\n",
      "[3, 0, 3, 2] 0\n",
      "[3, 0, 3, 3] 0\n",
      "[3, 1, 0, 0] 0\n",
      "[3, 1, 0, 1] 0\n",
      "[3, 1, 0, 2] 0\n",
      "[3, 1, 0, 3] 0\n",
      "[3, 1, 1, 0] 0\n",
      "[3, 1, 1, 1] 0\n",
      "[3, 1, 1, 2] 0\n",
      "[3, 1, 1, 3] 0\n",
      "[3, 1, 2, 0] 0\n",
      "[3, 1, 2, 1] 0\n",
      "[3, 1, 2, 2] 0\n",
      "[3, 1, 2, 3] 0\n",
      "[3, 1, 3, 0] 0\n",
      "[3, 1, 3, 1] 0\n",
      "[3, 1, 3, 2] 0\n",
      "[3, 1, 3, 3] 0\n",
      "[3, 2, 0, 0] 0\n",
      "[3, 2, 0, 1] 0\n",
      "[3, 2, 0, 2] 0\n",
      "[3, 2, 0, 3] 0\n",
      "[3, 2, 1, 0] 0\n",
      "[3, 2, 1, 1] 0\n",
      "[3, 2, 1, 2] 0\n",
      "[3, 2, 1, 3] 0\n",
      "[3, 2, 2, 0] 0\n",
      "[3, 2, 2, 1] 0\n",
      "[3, 2, 2, 2] 0\n",
      "[3, 2, 2, 3] 0\n",
      "[3, 2, 3, 0] 0\n",
      "[3, 2, 3, 1] 0\n",
      "[3, 2, 3, 2] 0\n",
      "[3, 2, 3, 3] 0\n",
      "[3, 3, 0, 0] 0\n",
      "[3, 3, 0, 1] 0\n",
      "[3, 3, 0, 2] 0\n",
      "[3, 3, 0, 3] 0\n",
      "[3, 3, 1, 0] 0\n",
      "[3, 3, 1, 1] 0\n",
      "[3, 3, 1, 2] 0\n",
      "[3, 3, 1, 3] 0\n",
      "[3, 3, 2, 0] 0\n",
      "[3, 3, 2, 1] 0\n",
      "[3, 3, 2, 2] 0\n",
      "[3, 3, 2, 3] 0\n",
      "[3, 3, 3, 0] 0\n",
      "[3, 3, 3, 1] 0\n",
      "[3, 3, 3, 2] 0\n",
      "[3, 3, 3, 3] 0\n"
     ]
    }
   ],
   "source": [
    "for i in xrange(len(cord)):\n",
    "    for j in xrange(len(cord)):\n",
    "        for k in xrange(len(cord)):\n",
    "            for w in xrange(len(cord)):\n",
    "                index= [i,j,k,w]\n",
    "                print index, Riemann(index,metric, cord)"
   ]
  },
  {
   "cell_type": "markdown",
   "metadata": {},
   "source": [
    "Calculator Ricci Tensor"
   ]
  },
  {
   "cell_type": "code",
   "execution_count": 8,
   "metadata": {
    "collapsed": false
   },
   "outputs": [
    {
     "name": "stdout",
     "output_type": "stream",
     "text": [
      "[0, 0] 0\n",
      "[0, 1] 0\n",
      "[0, 2] 0\n",
      "[0, 3] 0\n",
      "[1, 0] 0\n",
      "[1, 1] 0\n",
      "[1, 2] 0\n",
      "[1, 3] 0\n",
      "[2, 0] 0\n",
      "[2, 1] 0\n",
      "[2, 2] 0\n",
      "[2, 3] 0\n",
      "[3, 0] 0\n",
      "[3, 1] 0\n",
      "[3, 2] 0\n",
      "[3, 3] 0\n"
     ]
    }
   ],
   "source": [
    "for i in xrange(len(cord)):\n",
    "    for j in xrange(len(cord)):\n",
    "        index= [i,j]\n",
    "        print index, Ricci_Tensor(index,metric, cord)"
   ]
  },
  {
   "cell_type": "markdown",
   "metadata": {},
   "source": [
    "Calculate Einstein Tensor"
   ]
  },
  {
   "cell_type": "code",
   "execution_count": 9,
   "metadata": {
    "collapsed": false
   },
   "outputs": [
    {
     "name": "stdout",
     "output_type": "stream",
     "text": [
      "[0, 0] 0\n",
      "[0, 1] 0\n",
      "[0, 2] 0\n",
      "[0, 3] 0\n",
      "[1, 0] 0\n",
      "[1, 1] 0\n",
      "[1, 2] 0\n",
      "[1, 3] 0\n",
      "[2, 0] 0\n",
      "[2, 1] 0\n",
      "[2, 2] 0\n",
      "[2, 3] 0\n",
      "[3, 0] 0\n",
      "[3, 1] 0\n",
      "[3, 2] 0\n",
      "[3, 3] 0\n"
     ]
    }
   ],
   "source": [
    "for i in xrange(len(cord)):\n",
    "    for j in xrange(len(cord)):\n",
    "        index= [i,j]\n",
    "        print index, Einstein_Tensor(index,metric, cord)"
   ]
  },
  {
   "cell_type": "markdown",
   "metadata": {},
   "source": [
    "Calculator Ricci Scalar"
   ]
  },
  {
   "cell_type": "code",
   "execution_count": 10,
   "metadata": {
    "collapsed": false
   },
   "outputs": [
    {
     "data": {
      "text/plain": [
       "0"
      ]
     },
     "execution_count": 10,
     "metadata": {},
     "output_type": "execute_result"
    }
   ],
   "source": [
    "Ricci_Scalar(metric,cord)"
   ]
  },
  {
   "cell_type": "code",
   "execution_count": null,
   "metadata": {
    "collapsed": true
   },
   "outputs": [],
   "source": []
  }
 ],
 "metadata": {
  "kernelspec": {
   "display_name": "Python 2",
   "language": "python",
   "name": "python2"
  },
  "language_info": {
   "codemirror_mode": {
    "name": "ipython",
    "version": 2
   },
   "file_extension": ".py",
   "mimetype": "text/x-python",
   "name": "python",
   "nbconvert_exporter": "python",
   "pygments_lexer": "ipython2",
   "version": "2.7.10"
  }
 },
 "nbformat": 4,
 "nbformat_minor": 1
}
